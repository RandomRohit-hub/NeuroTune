{
 "cells": [
  {
   "cell_type": "code",
   "execution_count": 75,
   "id": "d8b9ea79-24cd-436c-b6cd-26660246def2",
   "metadata": {},
   "outputs": [],
   "source": [
    "import numpy as np\n",
    "import pandas as pd\n"
   ]
  },
  {
   "cell_type": "code",
   "execution_count": 76,
   "id": "7bd5a78d-56bf-425c-b7bd-6bbfea3359bf",
   "metadata": {},
   "outputs": [
    {
     "data": {
      "text/html": [
       "<div>\n",
       "<style scoped>\n",
       "    .dataframe tbody tr th:only-of-type {\n",
       "        vertical-align: middle;\n",
       "    }\n",
       "\n",
       "    .dataframe tbody tr th {\n",
       "        vertical-align: top;\n",
       "    }\n",
       "\n",
       "    .dataframe thead th {\n",
       "        text-align: right;\n",
       "    }\n",
       "</style>\n",
       "<table border=\"1\" class=\"dataframe\">\n",
       "  <thead>\n",
       "    <tr style=\"text-align: right;\">\n",
       "      <th></th>\n",
       "      <th>artist</th>\n",
       "      <th>song</th>\n",
       "      <th>link</th>\n",
       "      <th>text</th>\n",
       "    </tr>\n",
       "  </thead>\n",
       "  <tbody>\n",
       "    <tr>\n",
       "      <th>0</th>\n",
       "      <td>ABBA</td>\n",
       "      <td>Ahe's My Kind Of Girl</td>\n",
       "      <td>/a/abba/ahes+my+kind+of+girl_20598417.html</td>\n",
       "      <td>Look at her face, it's a wonderful face  \\nAnd...</td>\n",
       "    </tr>\n",
       "    <tr>\n",
       "      <th>1</th>\n",
       "      <td>ABBA</td>\n",
       "      <td>Andante, Andante</td>\n",
       "      <td>/a/abba/andante+andante_20002708.html</td>\n",
       "      <td>Take it easy with me, please  \\nTouch me gentl...</td>\n",
       "    </tr>\n",
       "    <tr>\n",
       "      <th>2</th>\n",
       "      <td>ABBA</td>\n",
       "      <td>As Good As New</td>\n",
       "      <td>/a/abba/as+good+as+new_20003033.html</td>\n",
       "      <td>I'll never know why I had to go  \\nWhy I had t...</td>\n",
       "    </tr>\n",
       "    <tr>\n",
       "      <th>3</th>\n",
       "      <td>ABBA</td>\n",
       "      <td>Bang</td>\n",
       "      <td>/a/abba/bang_20598415.html</td>\n",
       "      <td>Making somebody happy is a question of give an...</td>\n",
       "    </tr>\n",
       "    <tr>\n",
       "      <th>4</th>\n",
       "      <td>ABBA</td>\n",
       "      <td>Bang-A-Boomerang</td>\n",
       "      <td>/a/abba/bang+a+boomerang_20002668.html</td>\n",
       "      <td>Making somebody happy is a question of give an...</td>\n",
       "    </tr>\n",
       "  </tbody>\n",
       "</table>\n",
       "</div>"
      ],
      "text/plain": [
       "  artist                   song                                        link  \\\n",
       "0   ABBA  Ahe's My Kind Of Girl  /a/abba/ahes+my+kind+of+girl_20598417.html   \n",
       "1   ABBA       Andante, Andante       /a/abba/andante+andante_20002708.html   \n",
       "2   ABBA         As Good As New        /a/abba/as+good+as+new_20003033.html   \n",
       "3   ABBA                   Bang                  /a/abba/bang_20598415.html   \n",
       "4   ABBA       Bang-A-Boomerang      /a/abba/bang+a+boomerang_20002668.html   \n",
       "\n",
       "                                                text  \n",
       "0  Look at her face, it's a wonderful face  \\nAnd...  \n",
       "1  Take it easy with me, please  \\nTouch me gentl...  \n",
       "2  I'll never know why I had to go  \\nWhy I had t...  \n",
       "3  Making somebody happy is a question of give an...  \n",
       "4  Making somebody happy is a question of give an...  "
      ]
     },
     "execution_count": 76,
     "metadata": {},
     "output_type": "execute_result"
    }
   ],
   "source": [
    "df=pd.read_csv('songdata.csv')\n",
    "df.head()"
   ]
  },
  {
   "cell_type": "code",
   "execution_count": 77,
   "id": "abf789c0-4824-4218-a113-ebb7a4a75bd5",
   "metadata": {},
   "outputs": [
    {
     "data": {
      "text/plain": [
       "(57650, 4)"
      ]
     },
     "execution_count": 77,
     "metadata": {},
     "output_type": "execute_result"
    }
   ],
   "source": [
    "df.shape"
   ]
  },
  {
   "cell_type": "code",
   "execution_count": 78,
   "id": "8a132aa2-1c2d-4cfa-b7a8-eaebb840780a",
   "metadata": {},
   "outputs": [
    {
     "data": {
      "text/html": [
       "<div>\n",
       "<style scoped>\n",
       "    .dataframe tbody tr th:only-of-type {\n",
       "        vertical-align: middle;\n",
       "    }\n",
       "\n",
       "    .dataframe tbody tr th {\n",
       "        vertical-align: top;\n",
       "    }\n",
       "\n",
       "    .dataframe thead th {\n",
       "        text-align: right;\n",
       "    }\n",
       "</style>\n",
       "<table border=\"1\" class=\"dataframe\">\n",
       "  <thead>\n",
       "    <tr style=\"text-align: right;\">\n",
       "      <th></th>\n",
       "      <th>artist</th>\n",
       "      <th>song</th>\n",
       "      <th>text</th>\n",
       "    </tr>\n",
       "  </thead>\n",
       "  <tbody>\n",
       "    <tr>\n",
       "      <th>0</th>\n",
       "      <td>Donna Summer</td>\n",
       "      <td>She Works Hard For The Money</td>\n",
       "      <td>She works hard for the money.  \\nSo hard for i...</td>\n",
       "    </tr>\n",
       "    <tr>\n",
       "      <th>1</th>\n",
       "      <td>Dean Martin</td>\n",
       "      <td>I'll Gladly Make The Same Mistake Again</td>\n",
       "      <td>There'll be lots of tears plus some happy year...</td>\n",
       "    </tr>\n",
       "    <tr>\n",
       "      <th>2</th>\n",
       "      <td>Metallica</td>\n",
       "      <td>Better Than You</td>\n",
       "      <td>I look at you then you me  \\nHungry and thirst...</td>\n",
       "    </tr>\n",
       "    <tr>\n",
       "      <th>3</th>\n",
       "      <td>Johnny Cash</td>\n",
       "      <td>Highway Patrolman</td>\n",
       "      <td>My name is Joe Roberts I work for the State  \\...</td>\n",
       "    </tr>\n",
       "    <tr>\n",
       "      <th>4</th>\n",
       "      <td>Reba Mcentire</td>\n",
       "      <td>I Was Glad To Give My Everything To You</td>\n",
       "      <td>Oh I know it's hard for you to say it's over  ...</td>\n",
       "    </tr>\n",
       "    <tr>\n",
       "      <th>...</th>\n",
       "      <td>...</td>\n",
       "      <td>...</td>\n",
       "      <td>...</td>\n",
       "    </tr>\n",
       "    <tr>\n",
       "      <th>495</th>\n",
       "      <td>Van Morrison</td>\n",
       "      <td>Big Blue Diamonds</td>\n",
       "      <td>Blue diamonds, big blue diamonds on her finger...</td>\n",
       "    </tr>\n",
       "    <tr>\n",
       "      <th>496</th>\n",
       "      <td>Christmas Songs</td>\n",
       "      <td>Christmas In Dixie</td>\n",
       "      <td>By now in New York City.  \\nThere's snow on th...</td>\n",
       "    </tr>\n",
       "    <tr>\n",
       "      <th>497</th>\n",
       "      <td>Ne-Yo</td>\n",
       "      <td>Empty Frames</td>\n",
       "      <td>I can feel the raindrops  \\nSlowly falling  \\n...</td>\n",
       "    </tr>\n",
       "    <tr>\n",
       "      <th>498</th>\n",
       "      <td>Vonda Shepard</td>\n",
       "      <td>Sail On By</td>\n",
       "      <td>I've got a mind that you'll never see  \\nI've ...</td>\n",
       "    </tr>\n",
       "    <tr>\n",
       "      <th>499</th>\n",
       "      <td>Metallica</td>\n",
       "      <td>The Small Hours</td>\n",
       "      <td>(Originally recorded by Holocaust)  \\n  \\nLook...</td>\n",
       "    </tr>\n",
       "  </tbody>\n",
       "</table>\n",
       "<p>500 rows × 3 columns</p>\n",
       "</div>"
      ],
      "text/plain": [
       "              artist                                     song  \\\n",
       "0       Donna Summer             She Works Hard For The Money   \n",
       "1        Dean Martin  I'll Gladly Make The Same Mistake Again   \n",
       "2          Metallica                          Better Than You   \n",
       "3        Johnny Cash                        Highway Patrolman   \n",
       "4      Reba Mcentire  I Was Glad To Give My Everything To You   \n",
       "..               ...                                      ...   \n",
       "495     Van Morrison                        Big Blue Diamonds   \n",
       "496  Christmas Songs                       Christmas In Dixie   \n",
       "497            Ne-Yo                             Empty Frames   \n",
       "498    Vonda Shepard                               Sail On By   \n",
       "499        Metallica                          The Small Hours   \n",
       "\n",
       "                                                  text  \n",
       "0    She works hard for the money.  \\nSo hard for i...  \n",
       "1    There'll be lots of tears plus some happy year...  \n",
       "2    I look at you then you me  \\nHungry and thirst...  \n",
       "3    My name is Joe Roberts I work for the State  \\...  \n",
       "4    Oh I know it's hard for you to say it's over  ...  \n",
       "..                                                 ...  \n",
       "495  Blue diamonds, big blue diamonds on her finger...  \n",
       "496  By now in New York City.  \\nThere's snow on th...  \n",
       "497  I can feel the raindrops  \\nSlowly falling  \\n...  \n",
       "498  I've got a mind that you'll never see  \\nI've ...  \n",
       "499  (Originally recorded by Holocaust)  \\n  \\nLook...  \n",
       "\n",
       "[500 rows x 3 columns]"
      ]
     },
     "execution_count": 78,
     "metadata": {},
     "output_type": "execute_result"
    }
   ],
   "source": [
    "df.sample(n=500).drop('link',axis=1).reset_index(drop=True)"
   ]
  },
  {
   "cell_type": "markdown",
   "id": "ff53f489-f249-45c1-8ff6-9fe9489ac41d",
   "metadata": {},
   "source": [
    "cleaning"
   ]
  },
  {
   "cell_type": "code",
   "execution_count": 80,
   "id": "8370b172-da38-4830-92a0-dda778c32ee0",
   "metadata": {},
   "outputs": [
    {
     "data": {
      "text/plain": [
       "\"Ahe's My Kind Of Girl\""
      ]
     },
     "execution_count": 80,
     "metadata": {},
     "output_type": "execute_result"
    }
   ],
   "source": [
    "df['song'][0]"
   ]
  },
  {
   "cell_type": "code",
   "execution_count": 81,
   "id": "ceb884e9-d0f9-45ac-9adf-0b6f0516fa27",
   "metadata": {},
   "outputs": [
    {
     "data": {
      "text/plain": [
       "0        Look at her face, it's a wonderful face  \\nAnd...\n",
       "1        Take it easy with me, please  \\nTouch me gentl...\n",
       "2        I'll never know why I had to go  \\nWhy I had t...\n",
       "3        Making somebody happy is a question of give an...\n",
       "4        Making somebody happy is a question of give an...\n",
       "                               ...                        \n",
       "57645    Irie days come on play  \\nLet the angels fly l...\n",
       "57646    Power to the workers  \\nMore power  \\nPower to...\n",
       "57647    all you need  \\nis something i'll believe  \\nf...\n",
       "57648    northern star  \\nam i frightened  \\nwhere can ...\n",
       "57649    come in  \\nmake yourself at home  \\ni'm a bit ...\n",
       "Name: text, Length: 57650, dtype: object"
      ]
     },
     "execution_count": 81,
     "metadata": {},
     "output_type": "execute_result"
    }
   ],
   "source": [
    "df['text']"
   ]
  },
  {
   "cell_type": "code",
   "execution_count": 82,
   "id": "019ab791-4259-490f-b888-f5f684986bb1",
   "metadata": {},
   "outputs": [
    {
     "data": {
      "text/plain": [
       "\"Look at her face, it's a wonderful face  \\nAnd it means something special to me  \\nLook at the way that she smiles when she sees me  \\nHow lucky can one fellow be?  \\n  \\nShe's just my kind of girl, she makes me feel fine  \\nWho could ever believe that she could be mine?  \\nShe's just my kind of girl, without her I'm blue  \\nAnd if she ever leaves me what could I do, what could I do?  \\n  \\nAnd when we go for a walk in the park  \\nAnd she holds me and squeezes my hand  \\nWe'll go on walking for hours and talking  \\nAbout all the things that we plan  \\n  \\nShe's just my kind of girl, she makes me feel fine  \\nWho could ever believe that she could be mine?  \\nShe's just my kind of girl, without her I'm blue  \\nAnd if she ever leaves me what could I do, what could I do?\\n\\n\""
      ]
     },
     "execution_count": 82,
     "metadata": {},
     "output_type": "execute_result"
    }
   ],
   "source": [
    "df['text'][0]"
   ]
  },
  {
   "cell_type": "code",
   "execution_count": 83,
   "id": "2202f399-dbee-489a-a8f3-b53104ede031",
   "metadata": {},
   "outputs": [
    {
     "ename": "SyntaxError",
     "evalue": "invalid syntax. Perhaps you forgot a comma? (2165135994.py, line 1)",
     "output_type": "error",
     "traceback": [
      "  \u001b[36mCell\u001b[39m\u001b[36m \u001b[39m\u001b[32mIn[83]\u001b[39m\u001b[32m, line 1\u001b[39m\n\u001b[31m    \u001b[39m\u001b[31mdf['text'].str.lower().replace(r,'['^a-zA-Z0-9']',' ')\u001b[39m\n                                     ^\n\u001b[31mSyntaxError\u001b[39m\u001b[31m:\u001b[39m invalid syntax. Perhaps you forgot a comma?\n"
     ]
    }
   ],
   "source": [
    "df['text'].str.lower().replace(r,'['^a-zA-Z0-9']',' ')"
   ]
  },
  {
   "cell_type": "code",
   "execution_count": 95,
   "id": "24261971-8b3f-43f1-a43f-fda99ffbe2cc",
   "metadata": {},
   "outputs": [],
   "source": [
    "df['text'] = df['text'].str.lower().replace(r'[^\\w\\s]','').replace(r'\\n',' ', regex=True)"
   ]
  },
  {
   "cell_type": "code",
   "execution_count": 97,
   "id": "f58114de-76f3-4f19-a33e-41ac0d6a4bee",
   "metadata": {},
   "outputs": [
    {
     "data": {
      "text/plain": [
       "\"look at her face, it's a wonderful face   and it means something special to me   look at the way that she smiles when she sees me   how lucky can one fellow be?      she's just my kind of girl, she makes me feel fine   who could ever believe that she could be mine?   she's just my kind of girl, without her i'm blue   and if she ever leaves me what could i do, what could i do?      and when we go for a walk in the park   and she holds me and squeezes my hand   we'll go on walking for hours and talking   about all the things that we plan      she's just my kind of girl, she makes me feel fine   who could ever believe that she could be mine?   she's just my kind of girl, without her i'm blue   and if she ever leaves me what could i do, what could i do?  \""
      ]
     },
     "execution_count": 97,
     "metadata": {},
     "output_type": "execute_result"
    }
   ],
   "source": [
    "df['text'][0]"
   ]
  },
  {
   "cell_type": "code",
   "execution_count": 99,
   "id": "e5702db7-6a52-454a-a7c8-0fd01f4a7f6b",
   "metadata": {},
   "outputs": [
    {
     "data": {
      "text/plain": [
       "0                ABBA\n",
       "1                ABBA\n",
       "2                ABBA\n",
       "3                ABBA\n",
       "4                ABBA\n",
       "             ...     \n",
       "57645    Ziggy Marley\n",
       "57646    Ziggy Marley\n",
       "57647            Zwan\n",
       "57648            Zwan\n",
       "57649            Zwan\n",
       "Name: artist, Length: 57650, dtype: object"
      ]
     },
     "execution_count": 99,
     "metadata": {},
     "output_type": "execute_result"
    }
   ],
   "source": [
    "df['artist']"
   ]
  },
  {
   "cell_type": "code",
   "execution_count": 101,
   "id": "2e318eb1-e14a-4019-84ae-9485d6ed6071",
   "metadata": {},
   "outputs": [
    {
     "data": {
      "text/plain": [
       "0        Ahe's My Kind Of Girl\n",
       "1             Andante, Andante\n",
       "2               As Good As New\n",
       "3                         Bang\n",
       "4             Bang-A-Boomerang\n",
       "                 ...          \n",
       "57645            Good Old Days\n",
       "57646            Hand To Mouth\n",
       "57647             Come With Me\n",
       "57648                   Desire\n",
       "57649                Heartsong\n",
       "Name: song, Length: 57650, dtype: object"
      ]
     },
     "execution_count": 101,
     "metadata": {},
     "output_type": "execute_result"
    }
   ],
   "source": [
    "df['song']"
   ]
  },
  {
   "cell_type": "code",
   "execution_count": 103,
   "id": "e8311c7e-55f7-4bf9-9ed6-2ff4ff12fee2",
   "metadata": {},
   "outputs": [
    {
     "data": {
      "text/plain": [
       "\"Ahe's My Kind Of Girl\""
      ]
     },
     "execution_count": 103,
     "metadata": {},
     "output_type": "execute_result"
    }
   ],
   "source": [
    "df['song'][0]"
   ]
  },
  {
   "cell_type": "code",
   "execution_count": 105,
   "id": "1f09439f-12ba-492f-b9fb-9e35ee14add8",
   "metadata": {},
   "outputs": [
    {
     "data": {
      "text/plain": [
       "\"look at her face, it's a wonderful face   and it means something special to me   look at the way that she smiles when she sees me   how lucky can one fellow be?      she's just my kind of girl, she makes me feel fine   who could ever believe that she could be mine?   she's just my kind of girl, without her i'm blue   and if she ever leaves me what could i do, what could i do?      and when we go for a walk in the park   and she holds me and squeezes my hand   we'll go on walking for hours and talking   about all the things that we plan      she's just my kind of girl, she makes me feel fine   who could ever believe that she could be mine?   she's just my kind of girl, without her i'm blue   and if she ever leaves me what could i do, what could i do?  \""
      ]
     },
     "execution_count": 105,
     "metadata": {},
     "output_type": "execute_result"
    }
   ],
   "source": [
    "df['text'][0]"
   ]
  },
  {
   "cell_type": "markdown",
   "id": "5df35f9b-3972-407f-ade4-9ed56a66f187",
   "metadata": {},
   "source": [
    "Tokenization"
   ]
  },
  {
   "cell_type": "code",
   "execution_count": 108,
   "id": "092ddded-7163-441f-83ce-94b6db3d204a",
   "metadata": {},
   "outputs": [],
   "source": [
    "# import nltk \n",
    "# from nltk.stem.porter import PorterStemmer\n",
    "\n",
    "# ps=PorterStemmer()\n",
    "\n",
    "# def tokenization(txt):\n",
    "#     tokens=nltk.word_tokenize(txt)\n",
    "#     for w in tokens:\n",
    "#         stemming.append(ps.stem(w))\n",
    "\n",
    "#         return\" \".join(stemming)"
   ]
  },
  {
   "cell_type": "code",
   "execution_count": 110,
   "id": "087d0488-7327-4ab6-9c15-7b49891722c2",
   "metadata": {},
   "outputs": [],
   "source": [
    "import nltk\n",
    "from nltk.stem.porter import PorterStemmer\n",
    "stemmer = PorterStemmer()\n",
    "\n",
    "def tokenization(txt):\n",
    "    tokens = nltk.word_tokenize(txt)\n",
    "    stemming = [stemmer.stem(w) for w in tokens]\n",
    "    return \" \".join(stemming)"
   ]
  },
  {
   "cell_type": "code",
   "execution_count": 112,
   "id": "27248b3f-b60f-4b10-a44c-569d9f96f294",
   "metadata": {},
   "outputs": [
    {
     "data": {
      "text/plain": [
       "\"ahe 's my kind of girl\""
      ]
     },
     "execution_count": 112,
     "metadata": {},
     "output_type": "execute_result"
    }
   ],
   "source": [
    "tokenization(\"Ahe's My Kind Of Girl\")\n"
   ]
  },
  {
   "cell_type": "code",
   "execution_count": 116,
   "id": "211e67b2-73c5-41e8-9595-b62f59caa930",
   "metadata": {},
   "outputs": [],
   "source": [
    "df['text']=df['text'].apply(lambda x: tokenization(x))"
   ]
  },
  {
   "cell_type": "code",
   "execution_count": 118,
   "id": "6174ebbb-fd1b-4a54-b44e-90a173cf3212",
   "metadata": {},
   "outputs": [
    {
     "data": {
      "text/plain": [
       "0        look at her face , it 's a wonder face and it ...\n",
       "1        take it easi with me , pleas touch me gentli l...\n",
       "2        i 'll never know whi i had to go whi i had to ...\n",
       "3        make somebodi happi is a question of give and ...\n",
       "4        make somebodi happi is a question of give and ...\n",
       "                               ...                        \n",
       "57645    iri day come on play let the angel fli let the...\n",
       "57646    power to the worker more power power to the wo...\n",
       "57647    all you need is someth i 'll believ flashlight...\n",
       "57648    northern star am i frighten where can i go to ...\n",
       "57649    come in make yourself at home i 'm a bit late ...\n",
       "Name: text, Length: 57650, dtype: object"
      ]
     },
     "execution_count": 118,
     "metadata": {},
     "output_type": "execute_result"
    }
   ],
   "source": [
    "df['text']"
   ]
  },
  {
   "cell_type": "code",
   "execution_count": null,
   "id": "e1e3745e-aeb3-4c39-8394-88a6c5c463b6",
   "metadata": {},
   "outputs": [],
   "source": [
    "from sklearn.feat"
   ]
  }
 ],
 "metadata": {
  "kernelspec": {
   "display_name": "Python 3 (ipykernel)",
   "language": "python",
   "name": "python3"
  },
  "language_info": {
   "codemirror_mode": {
    "name": "ipython",
    "version": 3
   },
   "file_extension": ".py",
   "mimetype": "text/x-python",
   "name": "python",
   "nbconvert_exporter": "python",
   "pygments_lexer": "ipython3",
   "version": "3.12.3"
  }
 },
 "nbformat": 4,
 "nbformat_minor": 5
}
